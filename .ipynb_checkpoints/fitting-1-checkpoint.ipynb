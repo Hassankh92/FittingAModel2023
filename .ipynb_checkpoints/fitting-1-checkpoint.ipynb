{
 "cells": [
  {
   "cell_type": "code",
   "execution_count": null,
   "id": "dutch-panic",
   "metadata": {},
   "outputs": [],
   "source": [
    "] add CSV"
   ]
  },
  {
   "cell_type": "code",
   "execution_count": null,
   "id": "physical-monte",
   "metadata": {},
   "outputs": [],
   "source": [
    "] add DataFrames"
   ]
  },
  {
   "cell_type": "code",
   "execution_count": null,
   "id": "tough-tourism",
   "metadata": {},
   "outputs": [],
   "source": [
    "using CSV"
   ]
  },
  {
   "cell_type": "code",
   "execution_count": null,
   "id": "capital-somalia",
   "metadata": {},
   "outputs": [],
   "source": [
    "using DataFrames"
   ]
  },
  {
   "cell_type": "code",
   "execution_count": null,
   "id": "congressional-variance",
   "metadata": {},
   "outputs": [],
   "source": [
    "alldata = CSV.read(\"data.csv\", DataFrame)"
   ]
  },
  {
   "cell_type": "code",
   "execution_count": null,
   "id": "simple-visitor",
   "metadata": {},
   "outputs": [],
   "source": [
    "alldata.x"
   ]
  },
  {
   "cell_type": "code",
   "execution_count": null,
   "id": "horizontal-margin",
   "metadata": {},
   "outputs": [],
   "source": [
    "size(alldata)"
   ]
  },
  {
   "cell_type": "code",
   "execution_count": null,
   "id": "functional-visibility",
   "metadata": {},
   "outputs": [],
   "source": [
    "size(alldata,1)"
   ]
  },
  {
   "cell_type": "code",
   "execution_count": null,
   "id": "monetary-triple",
   "metadata": {},
   "outputs": [],
   "source": [
    "data = alldata[5:size(alldata,1), :]"
   ]
  },
  {
   "cell_type": "code",
   "execution_count": null,
   "id": "wicked-halifax",
   "metadata": {},
   "outputs": [],
   "source": [
    "using WGLMakie"
   ]
  },
  {
   "cell_type": "code",
   "execution_count": null,
   "id": "starting-adrian",
   "metadata": {},
   "outputs": [],
   "source": [
    "f = Figure()\n",
    "Axis(f[1, 1])\n",
    "errorbars!(data.x, data.y, data.sigma_y)\n",
    "scatter!(data.x, data.y, markersize = 10, color = :black)\n",
    "f"
   ]
  },
  {
   "cell_type": "code",
   "execution_count": null,
   "id": "liked-iceland",
   "metadata": {},
   "outputs": [],
   "source": [
    "m = 2\n",
    "b = 100"
   ]
  },
  {
   "cell_type": "code",
   "execution_count": null,
   "id": "future-batch",
   "metadata": {},
   "outputs": [],
   "source": [
    "xx = LinRange(50, 250, 25)"
   ]
  },
  {
   "cell_type": "code",
   "execution_count": null,
   "id": "removed-isaac",
   "metadata": {},
   "outputs": [],
   "source": [
    "f = Figure()\n",
    "Axis(f[1, 1])\n",
    "errorbars!(data.x, data.y, data.sigma_y)\n",
    "scatter!(data.x, data.y, markersize = 10, color = :black)\n",
    "yy = m .*xx .+ b\n",
    "lines!(xx, yy)\n",
    "f"
   ]
  },
  {
   "cell_type": "code",
   "execution_count": null,
   "id": "permanent-venice",
   "metadata": {},
   "outputs": [],
   "source": [
    "] add Optim"
   ]
  },
  {
   "cell_type": "code",
   "execution_count": null,
   "id": "known-spice",
   "metadata": {},
   "outputs": [],
   "source": [
    "using Optim"
   ]
  },
  {
   "cell_type": "code",
   "execution_count": null,
   "id": "therapeutic-easter",
   "metadata": {},
   "outputs": [],
   "source": [
    "function abs_diff(x, mean)\n",
    "    return sum(abs.(x .- mean))\n",
    "end"
   ]
  },
  {
   "cell_type": "code",
   "execution_count": null,
   "id": "weird-fabric",
   "metadata": {},
   "outputs": [],
   "source": [
    "function line_abs_diff(x, b, m, y)\n",
    "    y_pred = b .+ x .* m\n",
    "    return abs_diff(y_pred, y)\n",
    "end"
   ]
  },
  {
   "cell_type": "code",
   "execution_count": null,
   "id": "outside-uzbekistan",
   "metadata": {},
   "outputs": [],
   "source": [
    "function objective_abs(params)\n",
    "    b = params[1]\n",
    "    m = params[2]\n",
    "    return line_abs_diff(data.x, b, m, data.y)\n",
    "end"
   ]
  },
  {
   "cell_type": "code",
   "execution_count": null,
   "id": "hired-exemption",
   "metadata": {},
   "outputs": [],
   "source": [
    "result = optimize(objective_abs, [b,m] .+ 0.)"
   ]
  },
  {
   "cell_type": "code",
   "execution_count": null,
   "id": "numerous-workstation",
   "metadata": {},
   "outputs": [],
   "source": [
    "b_abs,m_abs = Optim.minimizer(result)"
   ]
  },
  {
   "cell_type": "code",
   "execution_count": null,
   "id": "flying-hammer",
   "metadata": {},
   "outputs": [],
   "source": [
    "f = Figure()\n",
    "Axis(f[1, 1])\n",
    "errorbars!(data.x, data.y, data.sigma_y)\n",
    "scatter!(data.x, data.y, markersize = 10, color = :black)\n",
    "lines!(xx, b_abs .+ m_abs .* xx)\n",
    "f"
   ]
  },
  {
   "cell_type": "code",
   "execution_count": null,
   "id": "banner-apartment",
   "metadata": {},
   "outputs": [],
   "source": []
  },
  {
   "cell_type": "code",
   "execution_count": null,
   "id": "surprised-egypt",
   "metadata": {},
   "outputs": [],
   "source": []
  },
  {
   "cell_type": "code",
   "execution_count": null,
   "id": "breeding-negative",
   "metadata": {},
   "outputs": [],
   "source": [
    "function gaussian_log_likelihood(x, mean, sigma)\n",
    "    return sum(-log.(sigma * sqrt(2*π)) - 0.5 * (x - mean).^2 ./ sigma.^2)\n",
    "end"
   ]
  },
  {
   "cell_type": "code",
   "execution_count": null,
   "id": "cutting-india",
   "metadata": {},
   "outputs": [],
   "source": [
    "gaussian_log_likelihood(data.y, m .* data.x .+ b, data.sigma_y)"
   ]
  },
  {
   "cell_type": "code",
   "execution_count": null,
   "id": "controversial-public",
   "metadata": {},
   "outputs": [],
   "source": [
    "function objective(params)\n",
    "    b = params[1]\n",
    "    m = params[2]\n",
    "    y_pred = b .+ m .* data.x\n",
    "    return -gaussian_log_likelihood(data.y .+ 0., y_pred, data.sigma_y .+ 0.)\n",
    "end"
   ]
  },
  {
   "cell_type": "code",
   "execution_count": null,
   "id": "cheap-attraction",
   "metadata": {},
   "outputs": [],
   "source": [
    "[b,m].+0."
   ]
  },
  {
   "cell_type": "code",
   "execution_count": null,
   "id": "later-vertex",
   "metadata": {},
   "outputs": [],
   "source": [
    "result = optimize(objective, [b,m] .+ 0.)"
   ]
  },
  {
   "cell_type": "code",
   "execution_count": null,
   "id": "anonymous-commander",
   "metadata": {},
   "outputs": [],
   "source": [
    "b_opt,m_opt = Optim.minimizer(result)"
   ]
  },
  {
   "cell_type": "code",
   "execution_count": null,
   "id": "authorized-platinum",
   "metadata": {},
   "outputs": [],
   "source": [
    "function objective_2(x, b, m, y, sigma_y)\n",
    "    y_pred = b .+ m .* x\n",
    "    return -gaussian_log_likelihood(y, y_pred, sigma_y)\n",
    "end"
   ]
  },
  {
   "cell_type": "code",
   "execution_count": null,
   "id": "aquatic-wisdom",
   "metadata": {},
   "outputs": [],
   "source": [
    "result = optimize(p -> objective_2(data.x, p[1], p[2], data.y, data.sigma_y),\n",
    "                  [b,m] .+ 0.);\n",
    "Optim.converged(result)"
   ]
  },
  {
   "cell_type": "code",
   "execution_count": null,
   "id": "dutch-exploration",
   "metadata": {},
   "outputs": [],
   "source": [
    "b_opt,m_opt = Optim.minimizer(result)"
   ]
  },
  {
   "cell_type": "code",
   "execution_count": null,
   "id": "increasing-terrace",
   "metadata": {},
   "outputs": [],
   "source": [
    "f = Figure()\n",
    "Axis(f[1, 1])\n",
    "errorbars!(data.x, data.y, data.sigma_y)\n",
    "scatter!(data.x, data.y, markersize = 10, color = :black)\n",
    "lines!(xx, b_opt .+ m_opt .* xx, )\n",
    "lines!(xx, b_abs .+ m_abs .* xx, color=:red)\n",
    "f"
   ]
  },
  {
   "cell_type": "code",
   "execution_count": null,
   "id": "gentle-equivalent",
   "metadata": {},
   "outputs": [],
   "source": []
  },
  {
   "cell_type": "code",
   "execution_count": null,
   "id": "million-visiting",
   "metadata": {},
   "outputs": [],
   "source": []
  },
  {
   "cell_type": "code",
   "execution_count": null,
   "id": "going-afghanistan",
   "metadata": {},
   "outputs": [],
   "source": []
  },
  {
   "cell_type": "code",
   "execution_count": null,
   "id": "sonic-expression",
   "metadata": {},
   "outputs": [],
   "source": [
    "append!([1,2],[3,4])"
   ]
  },
  {
   "cell_type": "code",
   "execution_count": null,
   "id": "invalid-queue",
   "metadata": {},
   "outputs": [],
   "source": [
    "data.x[1:0]"
   ]
  },
  {
   "cell_type": "code",
   "execution_count": null,
   "id": "micro-vertical",
   "metadata": {},
   "outputs": [],
   "source": [
    "n = length(data.x)\n",
    "\n",
    "B_jack = zeros(n)\n",
    "M_jack = zeros(n)\n",
    "\n",
    "for i in 1:n\n",
    "    x_sub = append!(data.x[1:(i-1)], data.x[(i+1):n])\n",
    "    y_sub = append!(data.y[1:(i-1)], data.y[(i+1):n])\n",
    "    s_sub = append!(data.sigma_y[1:(i-1)], data.sigma_y[(i+1):n])\n",
    "    result = optimize(p -> objective_2(x_sub, p[1], p[2], y_sub, s_sub),\n",
    "                      [b,m] .+ 0.);\n",
    "    @assert(Optim.converged(result))\n",
    "    b,m = Optim.minimizer(result)\n",
    "    B_jack[i] = b\n",
    "    M_jack[i] = m\n",
    "end"
   ]
  },
  {
   "cell_type": "code",
   "execution_count": null,
   "id": "owned-detail",
   "metadata": {},
   "outputs": [],
   "source": [
    "M_jack"
   ]
  },
  {
   "cell_type": "code",
   "execution_count": null,
   "id": "differential-ideal",
   "metadata": {},
   "outputs": [],
   "source": [
    "f = Figure()\n",
    "Axis(f[1, 1])\n",
    "errorbars!(data.x, data.y, data.sigma_y)\n",
    "scatter!(data.x, data.y, markersize = 10, color = :black)\n",
    "for i in 1:n\n",
    "    lines!(xx, B_jack[i] .+ M_jack[i] .* xx, color=:grey)\n",
    "end\n",
    "lines!(xx, b_opt .+ m_opt .* xx, color=:red, linewidth=3)\n",
    "f"
   ]
  },
  {
   "cell_type": "code",
   "execution_count": null,
   "id": "cardiovascular-causing",
   "metadata": {},
   "outputs": [],
   "source": [
    "f = Figure()\n",
    "Axis(f[1, 1])\n",
    "scatter!(B_jack, M_jack)\n",
    "f"
   ]
  },
  {
   "cell_type": "code",
   "execution_count": null,
   "id": "systematic-killer",
   "metadata": {},
   "outputs": [],
   "source": [
    "using Statistics"
   ]
  },
  {
   "cell_type": "code",
   "execution_count": null,
   "id": "suspended-retirement",
   "metadata": {},
   "outputs": [],
   "source": [
    "m_jack = mean(M_jack)\n",
    "b_jack = mean(B_jack)\n",
    "b_jack, m_jack"
   ]
  },
  {
   "cell_type": "code",
   "execution_count": null,
   "id": "brave-architect",
   "metadata": {},
   "outputs": [],
   "source": [
    "sigma_m_jack = (n-1)/n * std(M_jack .- m_jack)"
   ]
  },
  {
   "cell_type": "code",
   "execution_count": null,
   "id": "helpful-correspondence",
   "metadata": {},
   "outputs": [],
   "source": [
    "sigma_b_jack = (n-1)/n * std(B_jack .- b_jack)"
   ]
  },
  {
   "cell_type": "code",
   "execution_count": null,
   "id": "appointed-montreal",
   "metadata": {},
   "outputs": [],
   "source": [
    "f = Figure(resolution=(800,500))\n",
    "Axis(f[1, 1])\n",
    "errorbars!(data.x, data.y, data.sigma_y)\n",
    "scatter!(data.x, data.y, markersize = 10, color = :black)\n",
    "\n",
    "lines!(xx, (b_jack .+ sigma_b_jack) .+ m_jack .* xx, color=:grey)\n",
    "lines!(xx, (b_jack .- sigma_b_jack) .+ m_jack .* xx, color=:grey)\n",
    "lines!(xx, b_jack .+ (m_jack .+ sigma_m_jack) .* xx, color=:grey)\n",
    "lines!(xx, b_jack .+ (m_jack .- sigma_m_jack) .* xx, color=:grey)\n",
    "\n",
    "lines!(xx, b_opt .+ m_opt .* xx, color=:red)#, linewidth=3)\n",
    "f"
   ]
  },
  {
   "cell_type": "code",
   "execution_count": null,
   "id": "interesting-amendment",
   "metadata": {},
   "outputs": [],
   "source": []
  }
 ],
 "metadata": {
  "kernelspec": {
   "display_name": "Julia 1.8.4",
   "language": "julia",
   "name": "julia-1.8"
  }
 },
 "nbformat": 4,
 "nbformat_minor": 5
}
